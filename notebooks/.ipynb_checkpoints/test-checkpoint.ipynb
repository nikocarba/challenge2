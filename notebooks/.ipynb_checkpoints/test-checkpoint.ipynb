{
 "cells": [
  {
   "cell_type": "code",
   "execution_count": 1,
   "id": "33d4520a-a3a6-4fca-870e-db937a3be470",
   "metadata": {},
   "outputs": [
    {
     "name": "stdout",
     "output_type": "stream",
     "text": [
      "3.5.0\n"
     ]
    }
   ],
   "source": [
    "from pyspark.sql import SparkSession\n",
    "from pyspark.sql.functions import col, count\n",
    "import pyspark\n",
    "\n",
    "print(pyspark.__version__)"
   ]
  },
  {
   "cell_type": "code",
   "execution_count": 2,
   "id": "0d3438a7-7cc6-46e5-89fb-fe10406ba80b",
   "metadata": {},
   "outputs": [],
   "source": [
    "# Create a Spark session\n",
    "spark = SparkSession.builder.appName(\"GroupCSVData\").getOrCreate()\n"
   ]
  },
  {
   "cell_type": "code",
   "execution_count": 36,
   "id": "ddc2f48a-7005-4d4c-ba00-a3a75dc792f5",
   "metadata": {},
   "outputs": [
    {
     "name": "stdout",
     "output_type": "stream",
     "text": [
      "+----+-----+-------+---+--------+------+---------+--------------+\n",
      "|hour|calls|seconds|sms|    date|region|id_source|id_destination|\n",
      "+----+-----+-------+---+--------+------+---------+--------------+\n",
      "|  11|    1|     24|  0|20211001|     5|      BF3|           374|\n",
      "|   1|    1|     51|  0|20211001|     4|      9F5|           374|\n",
      "|  11|    1|      3|  0|20211001|     6|      025|           374|\n",
      "|  10|    1|     36|  0|20211001|     5|      FB6|           D52|\n",
      "|  23|    4|    137|  0|20211001|     8|      4BB|           861|\n",
      "|  18|    0|      0|  1|20211001|     4|      90C|           5B0|\n",
      "|  13|    1|    618|  0|20211001|     9|      7AB|           4CA|\n",
      "|  16|    1|    172|  0|20211001|     9|      7AB|           4CA|\n",
      "|   6|    1|    208|  0|20211001|     9|      7AB|           4CA|\n",
      "|   5|    1|     66|  0|20211001|     9|      7AB|           4CA|\n",
      "|  18|    1|    135|  0|20211001|     9|      7AB|           4CA|\n",
      "|  12|    0|      0|  8|20211001|     9|      0A4|           465|\n",
      "|  21|    1|      6|  0|20211001|     7|      2DF|           048|\n",
      "|  15|    1|     26|  0|20211001|     9|      3C0|           048|\n",
      "|  20|    1|      5|  0|20211001|     5|      DF9|           D5B|\n",
      "|   8|    1|    122|  0|20211001|     5|      DF9|           D5B|\n",
      "|  15|    2|    336|  0|20211001|     5|      DF9|           D5B|\n",
      "|   9|    1|      3|  0|20211001|     8|      04C|           FD6|\n",
      "|  13|    2|     12|  0|20211001|     2|      4CC|           FD6|\n",
      "|  18|    1|   1299|  0|20211001|     9|      250|          NULL|\n",
      "+----+-----+-------+---+--------+------+---------+--------------+\n",
      "only showing top 20 rows\n",
      "\n"
     ]
    }
   ],
   "source": [
    "# Path to the CSV file\n",
    "csv_file_path = \"../data/events.csv.gz\"\n",
    "\n",
    "# Read the CSV file into a DataFrame\n",
    "df_eventos = spark.read.csv(csv_file_path, header=True, inferSchema=True)\n",
    "\n",
    "# Show the first few rows of the DataFrame\n",
    "df_eventos.show()\n"
   ]
  },
  {
   "cell_type": "code",
   "execution_count": 4,
   "id": "26d690a8-b4ba-41c9-8df8-32615bf9aadc",
   "metadata": {},
   "outputs": [
    {
     "name": "stdout",
     "output_type": "stream",
     "text": [
      "root\n",
      " |-- hour: integer (nullable = true)\n",
      " |-- calls: integer (nullable = true)\n",
      " |-- seconds: integer (nullable = true)\n",
      " |-- sms: integer (nullable = true)\n",
      " |-- date: integer (nullable = true)\n",
      " |-- region: integer (nullable = true)\n",
      " |-- id_source: string (nullable = true)\n",
      " |-- id_destination: string (nullable = true)\n",
      "\n"
     ]
    }
   ],
   "source": [
    "# Mostrar el esquema del DataFrame\n",
    "df_eventos.printSchema()"
   ]
  },
  {
   "cell_type": "code",
   "execution_count": 6,
   "id": "c33c9c74-8f5b-4220-a6bb-f9192f986c00",
   "metadata": {},
   "outputs": [
    {
     "name": "stdout",
     "output_type": "stream",
     "text": [
      "+----+-----+-------+---+----+------+---------+--------------+\n",
      "|hour|calls|seconds|sms|date|region|id_source|id_destination|\n",
      "+----+-----+-------+---+----+------+---------+--------------+\n",
      "|   0|    0|      0|  0|   0|     0|       18|            15|\n",
      "+----+-----+-------+---+----+------+---------+--------------+\n",
      "\n"
     ]
    }
   ],
   "source": [
    "from pyspark.sql.functions import col, sum\n",
    "\n",
    "nulos_por_columna = df_eventos.select([sum(col(c).isNull().cast(\"int\")).alias(c) for c in df_eventos.columns])\n",
    "nulos_por_columna.show()\n"
   ]
  },
  {
   "cell_type": "code",
   "execution_count": 37,
   "id": "f196e2a8-d76a-4011-b995-79dfc6f34428",
   "metadata": {},
   "outputs": [
    {
     "name": "stdout",
     "output_type": "stream",
     "text": [
      "Cantidad total de eventos:  1000000\n",
      "Cantidad total de eventos sin id_source y id_destination nulos:  999970\n"
     ]
    }
   ],
   "source": [
    "print(\"Cantidad total de eventos: \", df_eventos.count())\n",
    "\n",
    "# Eliminar registros con nulos en \"id_source\" y \"id_destination\"\n",
    "df_eventos = df_eventos.dropna(subset=[\"id_source\", \"id_destination\"])\n",
    "\n",
    "print(\"Cantidad total de eventos sin id_source y id_destination nulos: \", df_eventos.count())"
   ]
  },
  {
   "cell_type": "code",
   "execution_count": 38,
   "id": "fbe7e6ec-7656-45e4-86ad-a462b7bd3731",
   "metadata": {},
   "outputs": [
    {
     "name": "stdout",
     "output_type": "stream",
     "text": [
      "+---+\n",
      "| id|\n",
      "+---+\n",
      "|374|\n",
      "|D52|\n",
      "|861|\n",
      "|5B0|\n",
      "|4CA|\n",
      "|465|\n",
      "|048|\n",
      "|D5B|\n",
      "|FD6|\n",
      "|2D3|\n",
      "+---+\n",
      "only showing top 10 rows\n",
      "\n"
     ]
    }
   ],
   "source": [
    "# Path to the CSV file\n",
    "csv_file_path = \"../data/free_sms_destinations.csv.gz\"\n",
    "\n",
    "# Read the CSV file into a DataFrame\n",
    "df_free_ids = spark.read.csv(csv_file_path, header=True, inferSchema=True)\n",
    "\n",
    "# Show the first few rows of the DataFrame\n",
    "df_free_ids.show(10)"
   ]
  },
  {
   "cell_type": "code",
   "execution_count": 9,
   "id": "d12d67f7-61bb-4b2c-aae9-88f1c9c7d723",
   "metadata": {},
   "outputs": [
    {
     "name": "stdout",
     "output_type": "stream",
     "text": [
      "+----+-----+-------+---+--------+------+---------+--------------+---+\n",
      "|hour|calls|seconds|sms|    date|region|id_source|id_destination| id|\n",
      "+----+-----+-------+---+--------+------+---------+--------------+---+\n",
      "|  11|    1|     24|  0|20211001|     5|      BF3|           374|374|\n",
      "|   1|    1|     51|  0|20211001|     4|      9F5|           374|374|\n",
      "|  11|    1|      3|  0|20211001|     6|      025|           374|374|\n",
      "|  10|    1|     36|  0|20211001|     5|      FB6|           D52|D52|\n",
      "|  23|    4|    137|  0|20211001|     8|      4BB|           861|861|\n",
      "|  18|    0|      0|  1|20211001|     4|      90C|           5B0|5B0|\n",
      "|  13|    1|    618|  0|20211001|     9|      7AB|           4CA|4CA|\n",
      "|  16|    1|    172|  0|20211001|     9|      7AB|           4CA|4CA|\n",
      "|   6|    1|    208|  0|20211001|     9|      7AB|           4CA|4CA|\n",
      "|   5|    1|     66|  0|20211001|     9|      7AB|           4CA|4CA|\n",
      "|  18|    1|    135|  0|20211001|     9|      7AB|           4CA|4CA|\n",
      "|  12|    0|      0|  8|20211001|     9|      0A4|           465|465|\n",
      "|  21|    1|      6|  0|20211001|     7|      2DF|           048|048|\n",
      "|  15|    1|     26|  0|20211001|     9|      3C0|           048|048|\n",
      "|  20|    1|      5|  0|20211001|     5|      DF9|           D5B|D5B|\n",
      "|   8|    1|    122|  0|20211001|     5|      DF9|           D5B|D5B|\n",
      "|  15|    2|    336|  0|20211001|     5|      DF9|           D5B|D5B|\n",
      "|   9|    1|      3|  0|20211001|     8|      04C|           FD6|FD6|\n",
      "|  13|    2|     12|  0|20211001|     2|      4CC|           FD6|FD6|\n",
      "|  19|    1|   1502|  0|20211001|     9|      250|           2D3|2D3|\n",
      "+----+-----+-------+---+--------+------+---------+--------------+---+\n",
      "only showing top 20 rows\n",
      "\n"
     ]
    }
   ],
   "source": [
    "# Left join en la columna \"id_destination\"\n",
    "joined_df = df_eventos.join(df_free_ids, df_eventos[\"id_destination\"] == df_free_ids[\"id\"], how=\"left\")\n",
    "joined_df.show()\n"
   ]
  },
  {
   "cell_type": "code",
   "execution_count": 29,
   "id": "b511a194-96ef-422d-8c8e-5628ecc6c8b8",
   "metadata": {
    "collapsed": true,
    "jupyter": {
     "outputs_hidden": true
    }
   },
   "outputs": [
    {
     "name": "stdout",
     "output_type": "stream",
     "text": [
      "+------+-------+--------------------+\n",
      "|region|     id|importe_segun_region|\n",
      "+------+-------+--------------------+\n",
      "|     1|no nulo|                 0.0|\n",
      "|     2|no nulo|                 0.0|\n",
      "|     3|no nulo|                 0.0|\n",
      "|     4|no nulo|                 0.0|\n",
      "|     5|no nulo|                 0.0|\n",
      "|     6|no nulo|                 0.0|\n",
      "|     7|no nulo|                 0.0|\n",
      "|     8|no nulo|                 0.0|\n",
      "|     9|no nulo|                 0.0|\n",
      "|     1|   nulo|                 1.5|\n",
      "|     2|   nulo|                 1.5|\n",
      "|     3|   nulo|                 1.5|\n",
      "|     4|   nulo|                 1.5|\n",
      "|     5|   nulo|                 1.5|\n",
      "|     6|   nulo|                 2.0|\n",
      "|     7|   nulo|                 2.0|\n",
      "|     8|   nulo|                 2.0|\n",
      "|     9|   nulo|                 2.0|\n",
      "+------+-------+--------------------+\n",
      "\n"
     ]
    }
   ],
   "source": [
    "from pyspark.sql.functions import expr\n",
    "\n",
    "joined_df = joined_df.withColumn(\"importe_segun_region\", \n",
    "                                 expr(\"CASE \" + \n",
    "                                      \"WHEN id IS NOT NULL THEN 0 \" + \n",
    "                                      \"WHEN REGION BETWEEN 1 and 5 THEN 1.5 \" + \n",
    "                                      \"WHEN REGION BETWEEN 6 and 9 THEN 2 END\" ))\n",
    "# Revisar que se hayan asignado correctamente los importes segun la region\n",
    "joined_df.selectExpr(\"region\", \"case when id is null then 'nulo' when id is not null then 'no nulo' end as id\", \"importe_segun_region\").distinct().orderBy(\"id\", \"region\").show(100)\n",
    "\n"
   ]
  },
  {
   "cell_type": "code",
   "execution_count": 54,
   "id": "bba59142-21a4-439f-93d5-cf3f28f69598",
   "metadata": {},
   "outputs": [
    {
     "name": "stdout",
     "output_type": "stream",
     "text": [
      "Monto total a facturar:  1696022.5\n"
     ]
    }
   ],
   "source": [
    "# Respuesta punto 1: Calcular el monto total que facturará el proveedor del servicio por envíos de sms.\n",
    "\n",
    "total = joined_df.agg(sum(\"importe_segun_region\")).collect()[0][0]\n",
    "print(\"Monto total a facturar: \", total)"
   ]
  },
  {
   "cell_type": "code",
   "execution_count": 73,
   "id": "8bac98fb-b7ab-4024-8718-e39b2bcbfeea",
   "metadata": {},
   "outputs": [
    {
     "name": "stdout",
     "output_type": "stream",
     "text": [
      "+---------+---------------+\n",
      "|id_source|monto_a_facurar|\n",
      "+---------+---------------+\n",
      "|      20E|          420.0|\n",
      "|      675|          344.0|\n",
      "|      829|          402.5|\n",
      "|      1DB|          415.5|\n",
      "|      F1B|          344.5|\n",
      "|      B05|          397.5|\n",
      "|      8FC|          384.0|\n",
      "|      1EE|          421.0|\n",
      "|      9AE|          386.0|\n",
      "|      A23|          367.5|\n",
      "|      08C|          333.5|\n",
      "|      6DC|          400.5|\n",
      "|      13C|          423.5|\n",
      "|      691|          361.5|\n",
      "|      467|          338.0|\n",
      "|      EE0|          413.5|\n",
      "|      296|          374.5|\n",
      "|      2C8|          370.0|\n",
      "|      800|          382.0|\n",
      "|      5BB|          501.0|\n",
      "+---------+---------------+\n",
      "only showing top 20 rows\n",
      "\n"
     ]
    }
   ],
   "source": [
    "# Obtener el total de la facturacion por ID\n",
    "facturacion_df = joined_df.groupBy(\"id_source\").agg(sum(\"importe_segun_region\").alias(\"monto_a_facurar\"))\n",
    "facturacion_df.show()\n"
   ]
  },
  {
   "cell_type": "code",
   "execution_count": 35,
   "id": "76a695dc-d767-43eb-9e1c-bd7fe1decf1b",
   "metadata": {},
   "outputs": [
    {
     "name": "stdout",
     "output_type": "stream",
     "text": [
      "Cantidades correctas\n"
     ]
    }
   ],
   "source": [
    "# Revisar que haya la misma cantidad de IDs unicos en el data set original y IDs con montos a facturar\n",
    "if facturacion_df.count() == df_eventos.select(\"id_source\").distinct().count():\n",
    "    print(\"Cantidad de IDs correcta\")\n",
    "else:\n",
    "    print(\"Cantidad de IDs incorrectas\")\n"
   ]
  },
  {
   "cell_type": "code",
   "execution_count": 75,
   "id": "01623118-94f3-404c-a8bf-d72b4f9abffb",
   "metadata": {},
   "outputs": [
    {
     "name": "stdout",
     "output_type": "stream",
     "text": [
      "+---------+--------------------+---------------+\n",
      "|id_source|           hashed_id|monto_a_facurar|\n",
      "+---------+--------------------+---------------+\n",
      "|      4D3|911914c7729eedbdf...|        18573.0|\n",
      "|      76D|bd180b7811395cbce...|        13508.0|\n",
      "|      07E|14a0660ae2f5d1868...|         4070.0|\n",
      "|      541|16c222aa19898e505...|         1707.0|\n",
      "|      B86|bc97b32ee2abb9c18...|         1292.5|\n",
      "|      3AE|6a57072949dbc409c...|         1026.0|\n",
      "|      1BD|f5a45e33602ea62f9...|         1023.5|\n",
      "|      3E0|e9d076deb3451cc49...|         1015.5|\n",
      "|      D29|1b2e80021b5fc82bf...|          892.0|\n",
      "|      E6F|159e1f3d6ff0e7c3c...|          714.5|\n",
      "+---------+--------------------+---------------+\n",
      "only showing top 10 rows\n",
      "\n"
     ]
    }
   ],
   "source": [
    "from pyspark.sql.functions import md5\n",
    "\n",
    "facturacion_df = facturacion_df.orderBy(\"monto_a_facurar\", ascending=False).limit(100)\n",
    "facturacion_df = facturacion_df.select(\"id_source\", md5(col(\"id_source\")).alias(\"hashed_id\"), \"monto_a_facurar\")\n",
    "\n",
    "facturacion_df.show(10)"
   ]
  },
  {
   "cell_type": "code",
   "execution_count": 80,
   "id": "6372b511-5726-4b85-9258-bed344e1c2c5",
   "metadata": {},
   "outputs": [],
   "source": [
    "# Punto 2: Escribir los primeros 100 IDs y sus montos a facturar en parquet comprimidos\n",
    "facturacion_df.coalesce(1) \\\n",
    "    .write \\\n",
    "    .option(\"compression\", \"gzip\") \\\n",
    "    .mode(\"overwrite\") \\\n",
    "    .parquet(\"../data/output\")"
   ]
  },
  {
   "cell_type": "code",
   "execution_count": 93,
   "id": "c4223d29-6791-4f37-84fe-38c1080d72c1",
   "metadata": {},
   "outputs": [
    {
     "name": "stdout",
     "output_type": "stream",
     "text": [
      "+----+-----------------+\n",
      "|hora|cantidad_llamadas|\n",
      "+----+-----------------+\n",
      "|   0|             6440|\n",
      "|   1|             3222|\n",
      "|   2|             1853|\n",
      "|   3|             1514|\n",
      "|   4|             1955|\n",
      "|   5|             4090|\n",
      "|   6|             9655|\n",
      "|   7|            23033|\n",
      "|   8|            43608|\n",
      "|   9|            62837|\n",
      "|  10|            74797|\n",
      "|  11|            78792|\n",
      "|  12|            80127|\n",
      "|  13|            81541|\n",
      "|  14|            77989|\n",
      "|  15|            75304|\n",
      "|  16|            72227|\n",
      "|  17|            71417|\n",
      "|  18|            70742|\n",
      "|  19|            70057|\n",
      "+----+-----------------+\n",
      "only showing top 20 rows\n",
      "\n"
     ]
    }
   ],
   "source": [
    "llamadas_df = df_eventos.groupBy(\"hour\").agg(sum(\"calls\").alias(\"cantidad_llamadas\")).orderBy(\"hour\")\n",
    "llamadas_df = llamadas_df.withColumnRenamed(\"hour\", \"hora\")\n",
    "\n",
    "llamadas_df.show()"
   ]
  },
  {
   "cell_type": "code",
   "execution_count": 94,
   "id": "3295e068-a149-48ca-aa0e-313c7af3ae1d",
   "metadata": {},
   "outputs": [
    {
     "name": "stdout",
     "output_type": "stream",
     "text": [
      "Bins: [0.0, 1.15, 2.3, 3.4499999999999997, 4.6, 5.75, 6.8999999999999995, 8.049999999999999, 9.2, 10.35, 11.5, 12.649999999999999, 13.799999999999999, 14.95, 16.099999999999998, 17.25, 18.4, 19.549999999999997, 20.7, 21.849999999999998, 23]\n",
      "Counts: [2, 1, 1, 1, 1, 1, 2, 1, 1, 1, 1, 1, 1, 2, 1, 1, 1, 1, 1, 2]\n"
     ]
    },
    {
     "data": {
      "image/png": "[encoded data removed]",
      "text/plain": [
       "<Figure size 640x480 with 1 Axes>"
      ]
     },
     "metadata": {},
     "output_type": "display_data"
    }
   ],
   "source": [
    "import matplotlib.pyplot as plt\n",
    "\n",
    "llamadas_df = df_eventos.groupBy(\"hour\").agg(sum(\"calls\").alias(\"cantidad_llamadas\")).orderBy(\"hour\")\n",
    "llamadas_df = llamadas_df.withColumnRenamed(\"hour\", \"hora\")\n",
    "\n",
    "# Generar el histograma de la columna 'hora'\n",
    "hist = llamadas_df.select(\"hora\").rdd.flatMap(lambda x: x).histogram(20)\n",
    "\n",
    "# Mostrar el histograma\n",
    "print(\"Bins:\", hist[0])\n",
    "print(\"Counts:\", hist[1])\n",
    "\n",
    "# Graficar el histograma utilizando matplotlib\n",
    "plt.hist(hist[0][:-1], bins=hist[0], weights=hist[1], edgecolor=\"black\")\n",
    "plt.xlabel(\"Hora\")\n",
    "plt.ylabel(\"Cantidad de llamadas\")\n",
    "plt.title(\"Llamadas por hora\")\n",
    "plt.show()\n"
   ]
  }
 ],
 "metadata": {
  "kernelspec": {
   "display_name": "Python 3 (ipykernel)",
   "language": "python",
   "name": "python3"
  },
  "language_info": {
   "codemirror_mode": {
    "name": "ipython",
    "version": 3
   },
   "file_extension": ".py",
   "mimetype": "text/x-python",
   "name": "python",
   "nbconvert_exporter": "python",
   "pygments_lexer": "ipython3",
   "version": "3.11.6"
  }
 },
 "nbformat": 4,
 "nbformat_minor": 5
}
