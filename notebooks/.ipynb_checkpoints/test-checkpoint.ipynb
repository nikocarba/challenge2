{
 "cells": [
  {
   "cell_type": "code",
   "execution_count": 11,
   "id": "33d4520a-a3a6-4fca-870e-db937a3be470",
   "metadata": {},
   "outputs": [],
   "source": [
    "from pyspark.sql import SparkSession\n",
    "from pyspark.sql.functions import col, count\n",
    "import pyspark\n",
    "\n",
    "print(pyspark.__version__)"
   ]
  },
  {
   "cell_type": "code",
   "execution_count": 3,
   "id": "0d3438a7-7cc6-46e5-89fb-fe10406ba80b",
   "metadata": {},
   "outputs": [],
   "source": [
    "# Create a Spark session\n",
    "spark = SparkSession.builder.appName(\"GroupCSVData\").getOrCreate()\n"
   ]
  },
  {
   "cell_type": "code",
   "execution_count": 9,
   "id": "ddc2f48a-7005-4d4c-ba00-a3a75dc792f5",
   "metadata": {},
   "outputs": [
    {
     "name": "stdout",
     "output_type": "stream",
     "text": [
      "+----+-----+-------+---+--------+------+---------+--------------+\n",
      "|hour|calls|seconds|sms|    date|region|id_source|id_destination|\n",
      "+----+-----+-------+---+--------+------+---------+--------------+\n",
      "|  11|    1|     24|  0|20211001|     5|      BF3|           374|\n",
      "|   1|    1|     51|  0|20211001|     4|      9F5|           374|\n",
      "|  11|    1|      3|  0|20211001|     6|      025|           374|\n",
      "|  10|    1|     36|  0|20211001|     5|      FB6|           D52|\n",
      "|  23|    4|    137|  0|20211001|     8|      4BB|           861|\n",
      "|  18|    0|      0|  1|20211001|     4|      90C|           5B0|\n",
      "|  13|    1|    618|  0|20211001|     9|      7AB|           4CA|\n",
      "|  16|    1|    172|  0|20211001|     9|      7AB|           4CA|\n",
      "|   6|    1|    208|  0|20211001|     9|      7AB|           4CA|\n",
      "|   5|    1|     66|  0|20211001|     9|      7AB|           4CA|\n",
      "|  18|    1|    135|  0|20211001|     9|      7AB|           4CA|\n",
      "|  12|    0|      0|  8|20211001|     9|      0A4|           465|\n",
      "|  21|    1|      6|  0|20211001|     7|      2DF|           048|\n",
      "|  15|    1|     26|  0|20211001|     9|      3C0|           048|\n",
      "|  20|    1|      5|  0|20211001|     5|      DF9|           D5B|\n",
      "|   8|    1|    122|  0|20211001|     5|      DF9|           D5B|\n",
      "|  15|    2|    336|  0|20211001|     5|      DF9|           D5B|\n",
      "|   9|    1|      3|  0|20211001|     8|      04C|           FD6|\n",
      "|  13|    2|     12|  0|20211001|     2|      4CC|           FD6|\n",
      "|  18|    1|   1299|  0|20211001|     9|      250|          NULL|\n",
      "+----+-----+-------+---+--------+------+---------+--------------+\n",
      "only showing top 20 rows\n",
      "\n"
     ]
    }
   ],
   "source": [
    "# Path to the CSV file\n",
    "csv_file_path = \"./data/events.csv.gz\"\n",
    "\n",
    "# Read the CSV file into a DataFrame\n",
    "df = spark.read.csv(csv_file_path, header=True, inferSchema=True)\n",
    "\n",
    "# Show the first few rows of the DataFrame\n",
    "df.show()\n"
   ]
  },
  {
   "cell_type": "code",
   "execution_count": null,
   "id": "f196e2a8-d76a-4011-b995-79dfc6f34428",
   "metadata": {},
   "outputs": [],
   "source": []
  }
 ],
 "metadata": {
  "kernelspec": {
   "display_name": "Python 3 (ipykernel)",
   "language": "python",
   "name": "python3"
  },
  "language_info": {
   "codemirror_mode": {
    "name": "ipython",
    "version": 3
   },
   "file_extension": ".py",
   "mimetype": "text/x-python",
   "name": "python",
   "nbconvert_exporter": "python",
   "pygments_lexer": "ipython3",
   "version": "3.11.6"
  }
 },
 "nbformat": 4,
 "nbformat_minor": 5
}
